{
 "cells": [
  {
   "cell_type": "markdown",
   "id": "bf19719e",
   "metadata": {},
   "source": [
    "<a href=\"https://www.viharatech.com\"><img src=\"https://miro.medium.com/v2/resize:fit:828/format:webp/1*on2Bpj6A5gfd-CzaFOAZRA.jpeg\"></a>\n",
    "\n",
    "### Write a Python Program to Remove the Vowels in given string\n"
   ]
  },
  {
   "cell_type": "code",
   "execution_count": 1,
   "id": "8fb42b0b",
   "metadata": {},
   "outputs": [
    {
     "name": "stdout",
     "output_type": "stream",
     "text": [
      "After :  ntd stts\n"
     ]
    }
   ],
   "source": [
    "vowels = 'aeiouAEIOU'\n",
    "\n",
    "a = 'united states'\n",
    "\n",
    "c = ''\n",
    "\n",
    "\n",
    "for i in a:\n",
    "    if i not in vowels:\n",
    "        c = c + i\n",
    "        \n",
    "print('After : ',c)"
   ]
  },
  {
   "cell_type": "code",
   "execution_count": 2,
   "id": "12f82d8c",
   "metadata": {},
   "outputs": [
    {
     "name": "stdout",
     "output_type": "stream",
     "text": [
      "After :  uieae\n"
     ]
    }
   ],
   "source": [
    "# keep vowels \n",
    "\n",
    "vowels = 'aeiouAEIOU'\n",
    "\n",
    "a = 'united states'\n",
    "\n",
    "c = ''\n",
    "\n",
    "\n",
    "for i in a:\n",
    "    if i in vowels:\n",
    "        c = c + i\n",
    "        \n",
    "print('After : ',c)"
   ]
  },
  {
   "cell_type": "code",
   "execution_count": null,
   "id": "84c1200b",
   "metadata": {},
   "outputs": [],
   "source": []
  }
 ],
 "metadata": {
  "kernelspec": {
   "display_name": "Python 3 (ipykernel)",
   "language": "python",
   "name": "python3"
  },
  "language_info": {
   "codemirror_mode": {
    "name": "ipython",
    "version": 3
   },
   "file_extension": ".py",
   "mimetype": "text/x-python",
   "name": "python",
   "nbconvert_exporter": "python",
   "pygments_lexer": "ipython3",
   "version": "3.11.5"
  }
 },
 "nbformat": 4,
 "nbformat_minor": 5
}
