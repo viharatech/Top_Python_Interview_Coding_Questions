{
 "cells": [
  {
   "cell_type": "markdown",
   "id": "bf19719e",
   "metadata": {},
   "source": [
    "<a href=\"https://www.viharatech.com\"><img src=\"https://miro.medium.com/v2/resize:fit:828/format:webp/1*on2Bpj6A5gfd-CzaFOAZRA.jpeg\"></a>\n",
    "\n",
    "### Write a Python Program to Prove that Given Number is Even or Odd"
   ]
  },
  {
   "cell_type": "code",
   "execution_count": 1,
   "id": "ec66a2bf",
   "metadata": {},
   "outputs": [
    {
     "name": "stdout",
     "output_type": "stream",
     "text": [
      "The given Number is odd : 3\n"
     ]
    }
   ],
   "source": [
    "a = 3\n",
    "\n",
    "if a % 2 == 0:\n",
    "    print(f'The given number is even : {a}')\n",
    "else:\n",
    "    print(f'The given Number is odd : {a}')\n"
   ]
  },
  {
   "cell_type": "code",
   "execution_count": 2,
   "id": "2513c5bd",
   "metadata": {},
   "outputs": [
    {
     "name": "stdout",
     "output_type": "stream",
     "text": [
      "The given number is even : 4\n"
     ]
    }
   ],
   "source": [
    "a = 4\n",
    "\n",
    "if a % 2 == 0:\n",
    "    print(f'The given number is even : {a}')\n",
    "else:\n",
    "    print(f'The given Number is odd : {a}')\n"
   ]
  },
  {
   "cell_type": "code",
   "execution_count": null,
   "id": "8fb42b0b",
   "metadata": {},
   "outputs": [],
   "source": []
  }
 ],
 "metadata": {
  "kernelspec": {
   "display_name": "Python 3 (ipykernel)",
   "language": "python",
   "name": "python3"
  },
  "language_info": {
   "codemirror_mode": {
    "name": "ipython",
    "version": 3
   },
   "file_extension": ".py",
   "mimetype": "text/x-python",
   "name": "python",
   "nbconvert_exporter": "python",
   "pygments_lexer": "ipython3",
   "version": "3.11.5"
  }
 },
 "nbformat": 4,
 "nbformat_minor": 5
}
