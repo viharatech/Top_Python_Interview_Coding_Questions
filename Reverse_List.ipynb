{
 "cells": [
  {
   "cell_type": "markdown",
   "id": "bf19719e",
   "metadata": {},
   "source": [
    "<a href=\"https://www.viharatech.com\"><img src=\"https://miro.medium.com/v2/resize:fit:828/format:webp/1*on2Bpj6A5gfd-CzaFOAZRA.jpeg\"></a>\n",
    "\n",
    "### Write a Python Program to Reverse the Given List"
   ]
  },
  {
   "cell_type": "code",
   "execution_count": 4,
   "id": "8fb42b0b",
   "metadata": {},
   "outputs": [
    {
     "name": "stdout",
     "output_type": "stream",
     "text": [
      "[50, 40, 30, 20, 10]\n"
     ]
    }
   ],
   "source": [
    "a = [10,20,30,40,50]\n",
    "\n",
    "print(a[::-1])"
   ]
  },
  {
   "cell_type": "code",
   "execution_count": 5,
   "id": "9e432d10",
   "metadata": {},
   "outputs": [
    {
     "name": "stdout",
     "output_type": "stream",
     "text": [
      "[50, 40, 30, 20, 10]\n"
     ]
    }
   ],
   "source": [
    "a = [10,20,30,40,50]\n",
    "\n",
    "a.reverse()\n",
    "\n",
    "print(a)"
   ]
  },
  {
   "cell_type": "code",
   "execution_count": 9,
   "id": "e5102fec",
   "metadata": {},
   "outputs": [
    {
     "name": "stdout",
     "output_type": "stream",
     "text": [
      "input =  [10, 20, 30, 40, 50]\n",
      "[50, 20, 30, 40, 10]\n",
      "[50, 40, 30, 20, 10]\n",
      "output =  [50, 40, 30, 20, 10]\n"
     ]
    }
   ],
   "source": [
    "# without slicing and without built_in_function\n",
    "\n",
    "a = [10,20,30,40,50]\n",
    "print('input = ',a)\n",
    "\n",
    "for i in range(len(a) // 2):\n",
    "    a[i] , a[len(a) - 1 - i] =  a[len(a) - 1 - i] ,  a[i]\n",
    "    print(a)\n",
    "    \n",
    "    \n",
    "print('output = ',a)"
   ]
  },
  {
   "cell_type": "code",
   "execution_count": null,
   "id": "42b0c717",
   "metadata": {},
   "outputs": [],
   "source": []
  }
 ],
 "metadata": {
  "kernelspec": {
   "display_name": "Python 3 (ipykernel)",
   "language": "python",
   "name": "python3"
  },
  "language_info": {
   "codemirror_mode": {
    "name": "ipython",
    "version": 3
   },
   "file_extension": ".py",
   "mimetype": "text/x-python",
   "name": "python",
   "nbconvert_exporter": "python",
   "pygments_lexer": "ipython3",
   "version": "3.11.5"
  }
 },
 "nbformat": 4,
 "nbformat_minor": 5
}
